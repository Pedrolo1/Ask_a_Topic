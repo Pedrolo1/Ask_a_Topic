{
  "nbformat": 4,
  "nbformat_minor": 0,
  "metadata": {
    "colab": {
      "provenance": []
    },
    "kernelspec": {
      "name": "python3",
      "display_name": "Python 3"
    },
    "language_info": {
      "name": "python"
    },
    "accelerator": "GPU",
    "gpuClass": "standard"
  },
  "cells": [
    {
      "cell_type": "code",
      "execution_count": null,
      "metadata": {
        "id": "pc1DGcib74du"
      },
      "outputs": [],
      "source": [
        "import os\n",
        "!git clone https://github.com/Pedrolo1/Ask_a_Topic.git\n",
        "!pip install -q -r Ask_a_Topic/requirements.txt\n",
        "os.environ[\"OPENAI_API_KEY\"] = 'xxxxxxxxxxxxxxxxxxxxxxxxxxx'\n",
        "!python Ask_a_Topic/app_main.py --doc_files '/content/Ask_a_Topic/TedTalks_txt' --num_results 10"
      ]
    }
  ]
}
